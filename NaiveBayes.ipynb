{
 "cells": [
  {
   "cell_type": "code",
   "execution_count": 2,
   "source": [
    "from data import preprocessingdata_news,processingdata_bayes"
   ],
   "outputs": [],
   "metadata": {}
  },
  {
   "cell_type": "code",
   "execution_count": 3,
   "source": [
    "dataset,testset=preprocessingdata_news()\r\n",
    "dataset_str,testset_str,labelset=processingdata_bayes(dataset,testset)\r\n"
   ],
   "outputs": [],
   "metadata": {}
  },
  {
   "cell_type": "code",
   "execution_count": 4,
   "source": [
    "from sklearn.feature_extraction.text import TfidfTransformer\r\n",
    "from sklearn.feature_extraction.text import CountVectorizer\r\n",
    "from sklearn.feature_extraction.text import TfidfVectorizer"
   ],
   "outputs": [],
   "metadata": {}
  },
  {
   "cell_type": "code",
   "execution_count": 5,
   "source": [
    "vectorizer=CountVectorizer()\r\n",
    "transformer=TfidfTransformer()\r\n",
    "tfidf_vec=TfidfVectorizer()"
   ],
   "outputs": [],
   "metadata": {}
  },
  {
   "cell_type": "code",
   "execution_count": 6,
   "source": [
    "tfidf_matrix_train=tfidf_vec.fit_transform(dataset_str)\r\n",
    "tfidf_matrix_test=tfidf_vec.transform(testset_str)"
   ],
   "outputs": [],
   "metadata": {}
  },
  {
   "cell_type": "code",
   "execution_count": 7,
   "source": [
    "from sklearn.metrics import accuracy_score\r\n",
    "from sklearn.naive_bayes import MultinomialNB\r\n",
    "from sklearn.model_selection import train_test_split\r\n",
    "from sklearn.metrics import confusion_matrix\r\n",
    "import numpy as np"
   ],
   "outputs": [],
   "metadata": {}
  },
  {
   "cell_type": "code",
   "execution_count": 8,
   "source": [
    "xtrain,xtest,ytrain,ytest=train_test_split(tfidf_matrix_train,labelset)\r\n",
    "model=MultinomialNB()\r\n",
    "model.fit(xtrain,ytrain)\r\n",
    "ypred=model.predict(xtest)\r\n",
    "ytest=np.array(ytest)\r\n",
    "ypred=np.array(ypred)\r\n",
    "print(f\"模型准确率为:\"+str(accuracy_score(ytest,ypred)))"
   ],
   "outputs": [
    {
     "output_type": "stream",
     "name": "stdout",
     "text": [
      "模型准确率为:0.8722700861550792\n"
     ]
    }
   ],
   "metadata": {}
  },
  {
   "cell_type": "code",
   "execution_count": 9,
   "source": [
    "test_pred=model.predict(tfidf_matrix_test)\r\n",
    "np.savetxt('.//result//result_bayes.txt',test_pred,fmt='%d',delimiter='\\n');"
   ],
   "outputs": [],
   "metadata": {}
  }
 ],
 "metadata": {
  "orig_nbformat": 4,
  "language_info": {
   "name": "python",
   "version": "3.9.7",
   "mimetype": "text/x-python",
   "codemirror_mode": {
    "name": "ipython",
    "version": 3
   },
   "pygments_lexer": "ipython3",
   "nbconvert_exporter": "python",
   "file_extension": ".py"
  },
  "kernelspec": {
   "name": "python3",
   "display_name": "Python 3.9.7 64-bit ('base': conda)"
  },
  "interpreter": {
   "hash": "cc5f70855ac006f3de45a3cc3b9e7d8d53845e50458809cb162b0174266dec97"
  }
 },
 "nbformat": 4,
 "nbformat_minor": 2
}