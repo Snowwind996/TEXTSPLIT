{
 "cells": [
  {
   "cell_type": "code",
   "execution_count": 1,
   "source": [
    "import pickle\r\n",
    "dataset=open('.//data//split_dataset','rb')\r\n",
    "dataset=pickle.load(dataset)\r\n",
    "testset=open('.//data//split_testset','rb')\r\n",
    "testset=pickle.load(testset)"
   ],
   "outputs": [],
   "metadata": {}
  },
  {
   "cell_type": "code",
   "execution_count": null,
   "source": [
    "def label_get(dataset):\r\n",
    "    labelset=[]\r\n",
    "    for index,row in dataset.iterrows():\r\n",
    "        labelset.append(dataset.loc[index,'label'])\r\n",
    "    return labelset\r\n",
    "labelset=label_get(dataset)\r\n"
   ],
   "outputs": [],
   "metadata": {}
  },
  {
   "cell_type": "code",
   "execution_count": 22,
   "source": [
    "def pd_li_transform(dataset):\r\n",
    "    dataset_list=[]\r\n",
    "    for index,row in dataset.iterrows():\r\n",
    "        str2=\" \"\r\n",
    "        if dataset.loc[index,'comment_all']is None:\r\n",
    "            dataset_list.append(dataset.loc[index,'content'])\r\n",
    "        else:\r\n",
    "            dataset_list.append(dataset.loc[index,'content']+dataset.loc[index,'comment_all'])\r\n",
    "    return dataset_list\r\n",
    "testset_list=pd_li_transform(testset)\r\n",
    "dataset_list=pd_li_transform(dataset)\r\n"
   ],
   "outputs": [],
   "metadata": {}
  },
  {
   "cell_type": "code",
   "execution_count": 31,
   "source": [
    "def li_str_transform(dataset_list):\r\n",
    "    dataset2=[]\r\n",
    "    for seq in dataset_list:\r\n",
    "        str1=' '.join(seq)\r\n",
    "        dataset2.append(str1)\r\n",
    "    return dataset2\r\n",
    "dataset_str=li_str_transform(dataset_list)\r\n",
    "testset_str=li_str_transform(testset_list)"
   ],
   "outputs": [],
   "metadata": {}
  },
  {
   "cell_type": "code",
   "execution_count": 37,
   "source": [
    "from sklearn import feature_extraction\r\n",
    "from sklearn.feature_extraction.text import TfidfTransformer\r\n",
    "from sklearn.feature_extraction.text import CountVectorizer\r\n",
    "from sklearn.feature_extraction.text import TfidfVectorizer"
   ],
   "outputs": [],
   "metadata": {}
  },
  {
   "cell_type": "code",
   "execution_count": 38,
   "source": [
    "vectorizer=CountVectorizer()\r\n",
    "transformer=TfidfTransformer()\r\n",
    "tfidf_vec=TfidfVectorizer()"
   ],
   "outputs": [],
   "metadata": {}
  },
  {
   "cell_type": "code",
   "execution_count": 41,
   "source": [
    "tfidf_matrix_train=tfidf_vec.fit_transform(dataset_str)\r\n",
    "tfidf_matrix_test=tfidf_vec.transform(testset_str)"
   ],
   "outputs": [],
   "metadata": {}
  },
  {
   "cell_type": "code",
   "execution_count": 52,
   "source": [
    "from sklearn.metrics import accuracy_score\r\n",
    "from sklearn.naive_bayes import MultinomialNB\r\n",
    "from sklearn.model_selection import train_test_split\r\n",
    "from sklearn.metrics import confusion_matrix\r\n",
    "import numpy as np"
   ],
   "outputs": [],
   "metadata": {}
  },
  {
   "cell_type": "code",
   "execution_count": 55,
   "source": [
    "xtrain,xtest,ytrain,ytest=train_test_split(tfidf_matrix_train,labelset)\r\n",
    "model=MultinomialNB()\r\n",
    "model.fit(xtrain,ytrain)\r\n",
    "ypred=model.predict(xtest)\r\n",
    "ytest=np.array(ytest)\r\n",
    "ypred=np.array(ypred)\r\n",
    "print(f\"模型准确率为:\"+str(accuracy_score(ytest,ypred)))"
   ],
   "outputs": [
    {
     "output_type": "stream",
     "name": "stdout",
     "text": [
      "模型准确率为:0.8687637747946303\n"
     ]
    }
   ],
   "metadata": {}
  },
  {
   "cell_type": "code",
   "execution_count": 58,
   "source": [
    "test_pred=model.predict(tfidf_matrix_test)\r\n",
    "np.savetxt('.//result//result_bayes.txt',test_pred,fmt='%d',delimiter='\\n');"
   ],
   "outputs": [],
   "metadata": {}
  }
 ],
 "metadata": {
  "orig_nbformat": 4,
  "language_info": {
   "name": "python",
   "version": "3.9.7",
   "mimetype": "text/x-python",
   "codemirror_mode": {
    "name": "ipython",
    "version": 3
   },
   "pygments_lexer": "ipython3",
   "nbconvert_exporter": "python",
   "file_extension": ".py"
  },
  "kernelspec": {
   "name": "python3",
   "display_name": "Python 3.9.7 64-bit ('base': conda)"
  },
  "interpreter": {
   "hash": "cc5f70855ac006f3de45a3cc3b9e7d8d53845e50458809cb162b0174266dec97"
  }
 },
 "nbformat": 4,
 "nbformat_minor": 2
}